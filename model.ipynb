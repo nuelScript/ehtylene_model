{
 "cells": [
  {
   "cell_type": "markdown",
   "metadata": {},
   "source": [
    "Importing the Libraries"
   ]
  },
  {
   "cell_type": "code",
   "execution_count": 261,
   "metadata": {},
   "outputs": [],
   "source": [
    "import pandas as pd\n",
    "import numpy as np\n",
    "import matplotlib.pyplot as plt\n",
    "import seaborn as sns\n",
    "%matplotlib inline"
   ]
  },
  {
   "cell_type": "markdown",
   "metadata": {},
   "source": [
    "Reading the collected dataset"
   ]
  },
  {
   "cell_type": "code",
   "execution_count": 262,
   "metadata": {},
   "outputs": [
    {
     "data": {
      "text/html": [
       "<div>\n",
       "<style scoped>\n",
       "    .dataframe tbody tr th:only-of-type {\n",
       "        vertical-align: middle;\n",
       "    }\n",
       "\n",
       "    .dataframe tbody tr th {\n",
       "        vertical-align: top;\n",
       "    }\n",
       "\n",
       "    .dataframe thead th {\n",
       "        text-align: right;\n",
       "    }\n",
       "</style>\n",
       "<table border=\"1\" class=\"dataframe\">\n",
       "  <thead>\n",
       "    <tr style=\"text-align: right;\">\n",
       "      <th></th>\n",
       "      <th>created_at</th>\n",
       "      <th>entry_id</th>\n",
       "      <th>Temperature</th>\n",
       "      <th>Humidity</th>\n",
       "      <th>Ethanol (Gas)</th>\n",
       "      <th>Type of Fruit</th>\n",
       "      <th>Ethylene</th>\n",
       "    </tr>\n",
       "  </thead>\n",
       "  <tbody>\n",
       "    <tr>\n",
       "      <th>0</th>\n",
       "      <td>2022-06-11T15:53:46+00:00</td>\n",
       "      <td>1</td>\n",
       "      <td>34.2</td>\n",
       "      <td>81.6</td>\n",
       "      <td>425.0</td>\n",
       "      <td>Banana</td>\n",
       "      <td>217.5</td>\n",
       "    </tr>\n",
       "    <tr>\n",
       "      <th>1</th>\n",
       "      <td>2022-06-11T15:54:39+00:00</td>\n",
       "      <td>2</td>\n",
       "      <td>34.3</td>\n",
       "      <td>83.8</td>\n",
       "      <td>425.0</td>\n",
       "      <td>Banana</td>\n",
       "      <td>217.5</td>\n",
       "    </tr>\n",
       "    <tr>\n",
       "      <th>2</th>\n",
       "      <td>2022-06-11T15:55:22+00:00</td>\n",
       "      <td>3</td>\n",
       "      <td>34.4</td>\n",
       "      <td>84.6</td>\n",
       "      <td>429.0</td>\n",
       "      <td>Banana</td>\n",
       "      <td>217.1</td>\n",
       "    </tr>\n",
       "    <tr>\n",
       "      <th>3</th>\n",
       "      <td>2022-06-11T15:55:55+00:00</td>\n",
       "      <td>4</td>\n",
       "      <td>34.4</td>\n",
       "      <td>85.7</td>\n",
       "      <td>438.0</td>\n",
       "      <td>Banana</td>\n",
       "      <td>216.2</td>\n",
       "    </tr>\n",
       "    <tr>\n",
       "      <th>4</th>\n",
       "      <td>2022-06-11T15:56:28+00:00</td>\n",
       "      <td>5</td>\n",
       "      <td>34.5</td>\n",
       "      <td>85.6</td>\n",
       "      <td>424.0</td>\n",
       "      <td>Banana</td>\n",
       "      <td>217.6</td>\n",
       "    </tr>\n",
       "    <tr>\n",
       "      <th>...</th>\n",
       "      <td>...</td>\n",
       "      <td>...</td>\n",
       "      <td>...</td>\n",
       "      <td>...</td>\n",
       "      <td>...</td>\n",
       "      <td>...</td>\n",
       "      <td>...</td>\n",
       "    </tr>\n",
       "    <tr>\n",
       "      <th>2240</th>\n",
       "      <td>2022-06-29T14:27:19+00:00</td>\n",
       "      <td>2241</td>\n",
       "      <td>34.9</td>\n",
       "      <td>96.4</td>\n",
       "      <td>290.0</td>\n",
       "      <td>Banana</td>\n",
       "      <td>195.0</td>\n",
       "    </tr>\n",
       "    <tr>\n",
       "      <th>2241</th>\n",
       "      <td>2022-06-29T14:27:53+00:00</td>\n",
       "      <td>2242</td>\n",
       "      <td>35.1</td>\n",
       "      <td>95.8</td>\n",
       "      <td>292.0</td>\n",
       "      <td>Banana</td>\n",
       "      <td>196.0</td>\n",
       "    </tr>\n",
       "    <tr>\n",
       "      <th>2242</th>\n",
       "      <td>2022-06-29T14:28:26+00:00</td>\n",
       "      <td>2243</td>\n",
       "      <td>35.2</td>\n",
       "      <td>95.3</td>\n",
       "      <td>299.0</td>\n",
       "      <td>Banana</td>\n",
       "      <td>199.5</td>\n",
       "    </tr>\n",
       "    <tr>\n",
       "      <th>2243</th>\n",
       "      <td>2022-06-29T14:29:00+00:00</td>\n",
       "      <td>2244</td>\n",
       "      <td>35.5</td>\n",
       "      <td>94.8</td>\n",
       "      <td>312.0</td>\n",
       "      <td>Banana</td>\n",
       "      <td>206.0</td>\n",
       "    </tr>\n",
       "    <tr>\n",
       "      <th>2244</th>\n",
       "      <td>2022-06-29T14:29:33+00:00</td>\n",
       "      <td>2245</td>\n",
       "      <td>35.6</td>\n",
       "      <td>94.3</td>\n",
       "      <td>321.0</td>\n",
       "      <td>Banana</td>\n",
       "      <td>210.5</td>\n",
       "    </tr>\n",
       "  </tbody>\n",
       "</table>\n",
       "<p>2245 rows × 7 columns</p>\n",
       "</div>"
      ],
      "text/plain": [
       "                     created_at  entry_id  Temperature  Humidity  \\\n",
       "0     2022-06-11T15:53:46+00:00         1         34.2      81.6   \n",
       "1     2022-06-11T15:54:39+00:00         2         34.3      83.8   \n",
       "2     2022-06-11T15:55:22+00:00         3         34.4      84.6   \n",
       "3     2022-06-11T15:55:55+00:00         4         34.4      85.7   \n",
       "4     2022-06-11T15:56:28+00:00         5         34.5      85.6   \n",
       "...                         ...       ...          ...       ...   \n",
       "2240  2022-06-29T14:27:19+00:00      2241         34.9      96.4   \n",
       "2241  2022-06-29T14:27:53+00:00      2242         35.1      95.8   \n",
       "2242  2022-06-29T14:28:26+00:00      2243         35.2      95.3   \n",
       "2243  2022-06-29T14:29:00+00:00      2244         35.5      94.8   \n",
       "2244  2022-06-29T14:29:33+00:00      2245         35.6      94.3   \n",
       "\n",
       "      Ethanol (Gas) Type of Fruit  Ethylene  \n",
       "0             425.0        Banana     217.5  \n",
       "1             425.0        Banana     217.5  \n",
       "2             429.0        Banana     217.1  \n",
       "3             438.0        Banana     216.2  \n",
       "4             424.0        Banana     217.6  \n",
       "...             ...           ...       ...  \n",
       "2240          290.0        Banana     195.0  \n",
       "2241          292.0        Banana     196.0  \n",
       "2242          299.0        Banana     199.5  \n",
       "2243          312.0        Banana     206.0  \n",
       "2244          321.0        Banana     210.5  \n",
       "\n",
       "[2245 rows x 7 columns]"
      ]
     },
     "execution_count": 262,
     "metadata": {},
     "output_type": "execute_result"
    }
   ],
   "source": [
    "data = pd.read_csv('C:/Users/USER/Desktop/Project/Model/modified_data_with_ethylene.csv')\n",
    "data"
   ]
  },
  {
   "cell_type": "code",
   "execution_count": 263,
   "metadata": {},
   "outputs": [],
   "source": [
    "data[\"Ethanol (Gas)\"].fillna(data['Ethanol (Gas)'].mean(), inplace=True) \n",
    "data[\"Ethylene\"].fillna(data['Ethylene'].mean(), inplace=True)\n",
    "\n",
    "data = pd.get_dummies(data, columns=['Type of Fruit'])"
   ]
  },
  {
   "cell_type": "code",
   "execution_count": 264,
   "metadata": {},
   "outputs": [],
   "source": [
    "data.rename(columns= {'created_at': 'date'}, inplace=True)\n",
    "data['date'] = data['date'].apply(lambda x: str(x)[:19])\n",
    "data['date'] = pd.to_datetime(data['date'])"
   ]
  },
  {
   "cell_type": "markdown",
   "metadata": {},
   "source": [
    "Classifying the Grades of the fruit"
   ]
  },
  {
   "cell_type": "code",
   "execution_count": 265,
   "metadata": {},
   "outputs": [],
   "source": [
    "data[\"Grade\"] = [0 for i in range (2245)]\n",
    "\n",
    "# Grade 1: Unripe\n",
    "data.loc[(data['Ethylene'] < 100) & (data['Ethanol (Gas)'] < 130), 'Grade'] = 1\n",
    "\n",
    "# Grade 2: Ripe (perfect to eat)\n",
    "data.loc[((data['Ethylene'] >= 100) & (data['Ethylene'] < 200)) & ((data['Ethanol (Gas)'] >= 130) & (data['Ethanol (Gas)'] < 210)), 'Grade'] = 2\n",
    "\n",
    "# Grade 3: Over ripe\n",
    "data.loc[((data['Ethylene'] >= 200) & (data['Ethylene'] < 300)) & ((data['Ethanol (Gas)'] >= 210) & (data['Ethanol (Gas)'] < 360)), 'Grade'] = 3\n",
    "\n",
    "# Grade 4: Rotting stage\n",
    "data.loc[(data['Ethylene'] >= 300) | (data['Ethanol (Gas)'] >= 360), 'Grade'] = 4"
   ]
  },
  {
   "cell_type": "markdown",
   "metadata": {},
   "source": [
    "Getting the total hours elapsed till date"
   ]
  },
  {
   "cell_type": "code",
   "execution_count": 266,
   "metadata": {},
   "outputs": [
    {
     "data": {
      "text/plain": [
       "datetime.datetime(2024, 4, 2, 16, 53, 22, 273475)"
      ]
     },
     "execution_count": 266,
     "metadata": {},
     "output_type": "execute_result"
    }
   ],
   "source": [
    "import datetime\n",
    "today = datetime.datetime.today()\n",
    "today"
   ]
  },
  {
   "cell_type": "code",
   "execution_count": 267,
   "metadata": {},
   "outputs": [],
   "source": [
    "data['date'] = pd.to_datetime(data['date'])\n",
    "data['Hours'] = (today - data['date'])/np.timedelta64(1,'h')"
   ]
  },
  {
   "cell_type": "markdown",
   "metadata": {},
   "source": [
    "Sorting the hours"
   ]
  },
  {
   "cell_type": "code",
   "execution_count": 268,
   "metadata": {},
   "outputs": [
    {
     "data": {
      "text/html": [
       "<div>\n",
       "<style scoped>\n",
       "    .dataframe tbody tr th:only-of-type {\n",
       "        vertical-align: middle;\n",
       "    }\n",
       "\n",
       "    .dataframe tbody tr th {\n",
       "        vertical-align: top;\n",
       "    }\n",
       "\n",
       "    .dataframe thead th {\n",
       "        text-align: right;\n",
       "    }\n",
       "</style>\n",
       "<table border=\"1\" class=\"dataframe\">\n",
       "  <thead>\n",
       "    <tr style=\"text-align: right;\">\n",
       "      <th></th>\n",
       "      <th>date</th>\n",
       "      <th>entry_id</th>\n",
       "      <th>Temperature</th>\n",
       "      <th>Humidity</th>\n",
       "      <th>Ethanol (Gas)</th>\n",
       "      <th>Ethylene</th>\n",
       "      <th>Type of Fruit_Banana</th>\n",
       "      <th>Grade</th>\n",
       "      <th>Hours</th>\n",
       "    </tr>\n",
       "  </thead>\n",
       "  <tbody>\n",
       "    <tr>\n",
       "      <th>0</th>\n",
       "      <td>2022-06-11 15:53:46</td>\n",
       "      <td>1</td>\n",
       "      <td>34.2</td>\n",
       "      <td>81.6</td>\n",
       "      <td>425.0</td>\n",
       "      <td>217.5</td>\n",
       "      <td>True</td>\n",
       "      <td>4</td>\n",
       "      <td>15434.397020</td>\n",
       "    </tr>\n",
       "    <tr>\n",
       "      <th>1</th>\n",
       "      <td>2022-06-11 15:54:39</td>\n",
       "      <td>2</td>\n",
       "      <td>34.3</td>\n",
       "      <td>83.8</td>\n",
       "      <td>425.0</td>\n",
       "      <td>217.5</td>\n",
       "      <td>True</td>\n",
       "      <td>4</td>\n",
       "      <td>15434.406187</td>\n",
       "    </tr>\n",
       "    <tr>\n",
       "      <th>2</th>\n",
       "      <td>2022-06-11 15:55:22</td>\n",
       "      <td>3</td>\n",
       "      <td>34.4</td>\n",
       "      <td>84.6</td>\n",
       "      <td>429.0</td>\n",
       "      <td>217.1</td>\n",
       "      <td>True</td>\n",
       "      <td>4</td>\n",
       "      <td>15434.415632</td>\n",
       "    </tr>\n",
       "    <tr>\n",
       "      <th>3</th>\n",
       "      <td>2022-06-11 15:55:55</td>\n",
       "      <td>4</td>\n",
       "      <td>34.4</td>\n",
       "      <td>85.7</td>\n",
       "      <td>438.0</td>\n",
       "      <td>216.2</td>\n",
       "      <td>True</td>\n",
       "      <td>4</td>\n",
       "      <td>15434.424798</td>\n",
       "    </tr>\n",
       "    <tr>\n",
       "      <th>4</th>\n",
       "      <td>2022-06-11 15:56:28</td>\n",
       "      <td>5</td>\n",
       "      <td>34.5</td>\n",
       "      <td>85.6</td>\n",
       "      <td>424.0</td>\n",
       "      <td>217.6</td>\n",
       "      <td>True</td>\n",
       "      <td>4</td>\n",
       "      <td>15434.434243</td>\n",
       "    </tr>\n",
       "    <tr>\n",
       "      <th>...</th>\n",
       "      <td>...</td>\n",
       "      <td>...</td>\n",
       "      <td>...</td>\n",
       "      <td>...</td>\n",
       "      <td>...</td>\n",
       "      <td>...</td>\n",
       "      <td>...</td>\n",
       "      <td>...</td>\n",
       "      <td>...</td>\n",
       "    </tr>\n",
       "    <tr>\n",
       "      <th>2240</th>\n",
       "      <td>2022-06-29 14:27:19</td>\n",
       "      <td>2241</td>\n",
       "      <td>34.9</td>\n",
       "      <td>96.4</td>\n",
       "      <td>290.0</td>\n",
       "      <td>195.0</td>\n",
       "      <td>True</td>\n",
       "      <td>0</td>\n",
       "      <td>15864.948409</td>\n",
       "    </tr>\n",
       "    <tr>\n",
       "      <th>2241</th>\n",
       "      <td>2022-06-29 14:27:53</td>\n",
       "      <td>2242</td>\n",
       "      <td>35.1</td>\n",
       "      <td>95.8</td>\n",
       "      <td>292.0</td>\n",
       "      <td>196.0</td>\n",
       "      <td>True</td>\n",
       "      <td>0</td>\n",
       "      <td>15864.957576</td>\n",
       "    </tr>\n",
       "    <tr>\n",
       "      <th>2242</th>\n",
       "      <td>2022-06-29 14:28:26</td>\n",
       "      <td>2243</td>\n",
       "      <td>35.2</td>\n",
       "      <td>95.3</td>\n",
       "      <td>299.0</td>\n",
       "      <td>199.5</td>\n",
       "      <td>True</td>\n",
       "      <td>0</td>\n",
       "      <td>15864.966743</td>\n",
       "    </tr>\n",
       "    <tr>\n",
       "      <th>2243</th>\n",
       "      <td>2022-06-29 14:29:00</td>\n",
       "      <td>2244</td>\n",
       "      <td>35.5</td>\n",
       "      <td>94.8</td>\n",
       "      <td>312.0</td>\n",
       "      <td>206.0</td>\n",
       "      <td>True</td>\n",
       "      <td>3</td>\n",
       "      <td>15864.978687</td>\n",
       "    </tr>\n",
       "    <tr>\n",
       "      <th>2244</th>\n",
       "      <td>2022-06-29 14:29:33</td>\n",
       "      <td>2245</td>\n",
       "      <td>35.6</td>\n",
       "      <td>94.3</td>\n",
       "      <td>321.0</td>\n",
       "      <td>210.5</td>\n",
       "      <td>True</td>\n",
       "      <td>3</td>\n",
       "      <td>15864.993409</td>\n",
       "    </tr>\n",
       "  </tbody>\n",
       "</table>\n",
       "<p>2245 rows × 9 columns</p>\n",
       "</div>"
      ],
      "text/plain": [
       "                    date  entry_id  Temperature  Humidity  Ethanol (Gas)  \\\n",
       "0    2022-06-11 15:53:46         1         34.2      81.6          425.0   \n",
       "1    2022-06-11 15:54:39         2         34.3      83.8          425.0   \n",
       "2    2022-06-11 15:55:22         3         34.4      84.6          429.0   \n",
       "3    2022-06-11 15:55:55         4         34.4      85.7          438.0   \n",
       "4    2022-06-11 15:56:28         5         34.5      85.6          424.0   \n",
       "...                  ...       ...          ...       ...            ...   \n",
       "2240 2022-06-29 14:27:19      2241         34.9      96.4          290.0   \n",
       "2241 2022-06-29 14:27:53      2242         35.1      95.8          292.0   \n",
       "2242 2022-06-29 14:28:26      2243         35.2      95.3          299.0   \n",
       "2243 2022-06-29 14:29:00      2244         35.5      94.8          312.0   \n",
       "2244 2022-06-29 14:29:33      2245         35.6      94.3          321.0   \n",
       "\n",
       "      Ethylene  Type of Fruit_Banana  Grade         Hours  \n",
       "0        217.5                  True      4  15434.397020  \n",
       "1        217.5                  True      4  15434.406187  \n",
       "2        217.1                  True      4  15434.415632  \n",
       "3        216.2                  True      4  15434.424798  \n",
       "4        217.6                  True      4  15434.434243  \n",
       "...        ...                   ...    ...           ...  \n",
       "2240     195.0                  True      0  15864.948409  \n",
       "2241     196.0                  True      0  15864.957576  \n",
       "2242     199.5                  True      0  15864.966743  \n",
       "2243     206.0                  True      3  15864.978687  \n",
       "2244     210.5                  True      3  15864.993409  \n",
       "\n",
       "[2245 rows x 9 columns]"
      ]
     },
     "execution_count": 268,
     "metadata": {},
     "output_type": "execute_result"
    }
   ],
   "source": [
    "lst = list(data['Hours'])\n",
    "lst.sort()\n",
    "data.drop('Hours', axis=1, inplace=True)\n",
    "ser = pd.Series(data = lst, index = data.index)\n",
    "data['Hours'] = ser\n",
    "data"
   ]
  },
  {
   "cell_type": "markdown",
   "metadata": {},
   "source": [
    "Splitting data to train, test"
   ]
  },
  {
   "cell_type": "code",
   "execution_count": 269,
   "metadata": {},
   "outputs": [],
   "source": [
    "from sklearn.model_selection import train_test_split\n",
    "\n",
    "X = data[['Temperature','Ethanol (Gas)', 'Ethylene', 'Grade', 'Humidity']]\n",
    "y = data['Hours']\n",
    "X_train, X_test, y_train, y_test = train_test_split(X, y, test_size=0.3, random_state=101)"
   ]
  },
  {
   "cell_type": "code",
   "execution_count": 270,
   "metadata": {},
   "outputs": [],
   "source": [
    "from sklearn.metrics import r2_score"
   ]
  },
  {
   "cell_type": "markdown",
   "metadata": {},
   "source": [
    "SVR"
   ]
  },
  {
   "cell_type": "code",
   "execution_count": 271,
   "metadata": {},
   "outputs": [],
   "source": [
    "from sklearn.svm import SVR\n",
    "from sklearn.metrics import mean_squared_error\n",
    "\n",
    "svr = SVR()\n",
    "svr.fit(X_train, y_train)\n",
    "pred_svr = svr.predict(X_test)"
   ]
  },
  {
   "cell_type": "code",
   "execution_count": 272,
   "metadata": {},
   "outputs": [
    {
     "name": "stdout",
     "output_type": "stream",
     "text": [
      "RMSE: 164.344573908364\n"
     ]
    },
    {
     "data": {
      "text/plain": [
       "-0.024487087644277983"
      ]
     },
     "execution_count": 272,
     "metadata": {},
     "output_type": "execute_result"
    }
   ],
   "source": [
    "# score = svr.score(X_test, y_test)\n",
    "# print(\"R-squared:\", score)\n",
    "print(\"RMSE:\", np.sqrt(mean_squared_error(y_test, pred_svr)))\n",
    "r2_score(y_test, pred_svr)"
   ]
  },
  {
   "cell_type": "code",
   "execution_count": 273,
   "metadata": {},
   "outputs": [
    {
     "data": {
      "text/plain": [
       "<matplotlib.collections.PathCollection at 0x2562b324290>"
      ]
     },
     "execution_count": 273,
     "metadata": {},
     "output_type": "execute_result"
    },
    {
     "data": {
      "image/png": "[encoded data removed]",
      "text/plain": [
       "<Figure size 1100x700 with 1 Axes>"
      ]
     },
     "metadata": {},
     "output_type": "display_data"
    }
   ],
   "source": [
    "plt.figure(figsize=(11,7))\n",
    "plt.title('SVR')\n",
    "sns.set_style('whitegrid')\n",
    "plt.xlabel('Y Predictions')\n",
    "plt.ylabel('Y True')\n",
    "plt.scatter(pred_svr, y_test, color='r')"
   ]
  },
  {
   "cell_type": "markdown",
   "metadata": {},
   "source": [
    "Decision Tree"
   ]
  },
  {
   "cell_type": "code",
   "execution_count": 274,
   "metadata": {},
   "outputs": [],
   "source": [
    "from sklearn.tree import DecisionTreeRegressor\n",
    "\n",
    "dtree = DecisionTreeRegressor()\n",
    "dtree.fit(X_train, y_train)\n",
    "pred_dtree = dtree.predict(X_test)"
   ]
  },
  {
   "cell_type": "code",
   "execution_count": 275,
   "metadata": {},
   "outputs": [
    {
     "name": "stdout",
     "output_type": "stream",
     "text": [
      "R-squared:  0.9561975427298685\n",
      "RMSE: 33.9821899039938\n",
      "R2:  0.9561975427298685\n"
     ]
    }
   ],
   "source": [
    "score = dtree.score(X_test, y_test)\n",
    "print(\"R-squared: \", score)\n",
    "print(\"RMSE:\", np.sqrt(mean_squared_error(y_test, pred_dtree)))\n",
    "print(\"R2: \", r2_score(y_test,pred_dtree))"
   ]
  },
  {
   "cell_type": "code",
   "execution_count": 276,
   "metadata": {},
   "outputs": [
    {
     "data": {
      "text/plain": [
       "<matplotlib.collections.PathCollection at 0x2562b36c6d0>"
      ]
     },
     "execution_count": 276,
     "metadata": {},
     "output_type": "execute_result"
    },
    {
     "data": {
      "image/png": "[encoded data removed]",
      "text/plain": [
       "<Figure size 1100x700 with 1 Axes>"
      ]
     },
     "metadata": {},
     "output_type": "display_data"
    }
   ],
   "source": [
    "plt.figure(figsize=(11,7))\n",
    "plt.title('Decision Tree')\n",
    "plt.xlabel('Y Predictions')\n",
    "plt.ylabel('Y True')\n",
    "sns.set_style('whitegrid')\n",
    "plt.scatter(pred_dtree, y_test, color='g')"
   ]
  },
  {
   "cell_type": "markdown",
   "metadata": {},
   "source": [
    "Random Forest"
   ]
  },
  {
   "cell_type": "code",
   "execution_count": 277,
   "metadata": {},
   "outputs": [],
   "source": [
    "from sklearn.ensemble import RandomForestRegressor\n",
    "\n",
    "rfr = RandomForestRegressor(n_estimators = 100)\n",
    "rfr.fit(X_train, y_train)\n",
    "pred_rfr = rfr.predict(X_test)"
   ]
  },
  {
   "cell_type": "code",
   "execution_count": 278,
   "metadata": {},
   "outputs": [
    {
     "name": "stdout",
     "output_type": "stream",
     "text": [
      "RMSE: 30.550406391948886\n"
     ]
    },
    {
     "data": {
      "text/plain": [
       "0.9645978422410002"
      ]
     },
     "execution_count": 278,
     "metadata": {},
     "output_type": "execute_result"
    }
   ],
   "source": [
    "print(\"RMSE:\", np.sqrt(mean_squared_error(y_test, pred_rfr)))\n",
    "r2_score(y_test, pred_rfr)"
   ]
  },
  {
   "cell_type": "code",
   "execution_count": 279,
   "metadata": {},
   "outputs": [
    {
     "data": {
      "text/plain": [
       "<matplotlib.collections.PathCollection at 0x2562c23ff10>"
      ]
     },
     "execution_count": 279,
     "metadata": {},
     "output_type": "execute_result"
    },
    {
     "data": {
      "image/png": "[encoded data removed]",
      "text/plain": [
       "<Figure size 1100x700 with 1 Axes>"
      ]
     },
     "metadata": {},
     "output_type": "display_data"
    }
   ],
   "source": [
    "plt.figure(figsize=(11,7))\n",
    "plt.title('RFR')\n",
    "plt.xlabel('Y Predictions')\n",
    "plt.ylabel('Y True')\n",
    "sns.set_style('whitegrid')\n",
    "plt.scatter(pred_rfr, y_test, color='brown')"
   ]
  },
  {
   "cell_type": "markdown",
   "metadata": {},
   "source": [
    "Feature Importance"
   ]
  },
  {
   "cell_type": "code",
   "execution_count": 280,
   "metadata": {},
   "outputs": [
    {
     "data": {
      "image/png": "[encoded data removed]",
      "text/plain": [
       "<Figure size 640x480 with 1 Axes>"
      ]
     },
     "metadata": {},
     "output_type": "display_data"
    }
   ],
   "source": [
    "feature_importances = pd.Series(rfr.feature_importances_, index=X_train.columns)\n",
    "feature_importances.nlargest(10).plot(kind='barh')\n",
    "plt.show()\n"
   ]
  }
 ],
 "metadata": {
  "kernelspec": {
   "display_name": "Python 3",
   "language": "python",
   "name": "python3"
  },
  "language_info": {
   "codemirror_mode": {
    "name": "ipython",
    "version": 3
   },
   "file_extension": ".py",
   "mimetype": "text/x-python",
   "name": "python",
   "nbconvert_exporter": "python",
   "pygments_lexer": "ipython3",
   "version": "3.11.5"
  }
 },
 "nbformat": 4,
 "nbformat_minor": 2
}
