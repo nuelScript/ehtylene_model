{
 "cells": [
  {
   "cell_type": "markdown",
   "metadata": {},
   "source": [
    "Importing the Libraries"
   ]
  },
  {
   "cell_type": "code",
   "execution_count": 1,
   "metadata": {},
   "outputs": [],
   "source": [
    "import pandas as pd\n",
    "import numpy as np\n",
    "import matplotlib.pyplot as plt\n",
    "import seaborn as sns\n",
    "%matplotlib inline"
   ]
  },
  {
   "cell_type": "markdown",
   "metadata": {},
   "source": [
    "Reading the collected dataset"
   ]
  },
  {
   "cell_type": "code",
   "execution_count": 2,
   "metadata": {},
   "outputs": [
    {
     "data": {
      "text/html": [
       "<div>\n",
       "<style scoped>\n",
       "    .dataframe tbody tr th:only-of-type {\n",
       "        vertical-align: middle;\n",
       "    }\n",
       "\n",
       "    .dataframe tbody tr th {\n",
       "        vertical-align: top;\n",
       "    }\n",
       "\n",
       "    .dataframe thead th {\n",
       "        text-align: right;\n",
       "    }\n",
       "</style>\n",
       "<table border=\"1\" class=\"dataframe\">\n",
       "  <thead>\n",
       "    <tr style=\"text-align: right;\">\n",
       "      <th></th>\n",
       "      <th>created_at</th>\n",
       "      <th>entry_id</th>\n",
       "      <th>Temperature</th>\n",
       "      <th>Humidity</th>\n",
       "      <th>Gas</th>\n",
       "    </tr>\n",
       "  </thead>\n",
       "  <tbody>\n",
       "    <tr>\n",
       "      <th>0</th>\n",
       "      <td>2022-06-11T15:53:46+00:00</td>\n",
       "      <td>1</td>\n",
       "      <td>34.2</td>\n",
       "      <td>81.6</td>\n",
       "      <td>425.0</td>\n",
       "    </tr>\n",
       "    <tr>\n",
       "      <th>1</th>\n",
       "      <td>2022-06-11T15:54:39+00:00</td>\n",
       "      <td>2</td>\n",
       "      <td>34.3</td>\n",
       "      <td>83.8</td>\n",
       "      <td>425.0</td>\n",
       "    </tr>\n",
       "    <tr>\n",
       "      <th>2</th>\n",
       "      <td>2022-06-11T15:55:22+00:00</td>\n",
       "      <td>3</td>\n",
       "      <td>34.4</td>\n",
       "      <td>84.6</td>\n",
       "      <td>429.0</td>\n",
       "    </tr>\n",
       "    <tr>\n",
       "      <th>3</th>\n",
       "      <td>2022-06-11T15:55:55+00:00</td>\n",
       "      <td>4</td>\n",
       "      <td>34.4</td>\n",
       "      <td>85.7</td>\n",
       "      <td>438.0</td>\n",
       "    </tr>\n",
       "    <tr>\n",
       "      <th>4</th>\n",
       "      <td>2022-06-11T15:56:28+00:00</td>\n",
       "      <td>5</td>\n",
       "      <td>34.5</td>\n",
       "      <td>85.6</td>\n",
       "      <td>424.0</td>\n",
       "    </tr>\n",
       "    <tr>\n",
       "      <th>...</th>\n",
       "      <td>...</td>\n",
       "      <td>...</td>\n",
       "      <td>...</td>\n",
       "      <td>...</td>\n",
       "      <td>...</td>\n",
       "    </tr>\n",
       "    <tr>\n",
       "      <th>2240</th>\n",
       "      <td>2022-06-29T14:27:19+00:00</td>\n",
       "      <td>2241</td>\n",
       "      <td>34.9</td>\n",
       "      <td>96.4</td>\n",
       "      <td>290.0</td>\n",
       "    </tr>\n",
       "    <tr>\n",
       "      <th>2241</th>\n",
       "      <td>2022-06-29T14:27:53+00:00</td>\n",
       "      <td>2242</td>\n",
       "      <td>35.1</td>\n",
       "      <td>95.8</td>\n",
       "      <td>292.0</td>\n",
       "    </tr>\n",
       "    <tr>\n",
       "      <th>2242</th>\n",
       "      <td>2022-06-29T14:28:26+00:00</td>\n",
       "      <td>2243</td>\n",
       "      <td>35.2</td>\n",
       "      <td>95.3</td>\n",
       "      <td>299.0</td>\n",
       "    </tr>\n",
       "    <tr>\n",
       "      <th>2243</th>\n",
       "      <td>2022-06-29T14:29:00+00:00</td>\n",
       "      <td>2244</td>\n",
       "      <td>35.5</td>\n",
       "      <td>94.8</td>\n",
       "      <td>312.0</td>\n",
       "    </tr>\n",
       "    <tr>\n",
       "      <th>2244</th>\n",
       "      <td>2022-06-29T14:29:33+00:00</td>\n",
       "      <td>2245</td>\n",
       "      <td>35.6</td>\n",
       "      <td>94.3</td>\n",
       "      <td>321.0</td>\n",
       "    </tr>\n",
       "  </tbody>\n",
       "</table>\n",
       "<p>2245 rows × 5 columns</p>\n",
       "</div>"
      ],
      "text/plain": [
       "                     created_at  entry_id  Temperature  Humidity    Gas\n",
       "0     2022-06-11T15:53:46+00:00         1         34.2      81.6  425.0\n",
       "1     2022-06-11T15:54:39+00:00         2         34.3      83.8  425.0\n",
       "2     2022-06-11T15:55:22+00:00         3         34.4      84.6  429.0\n",
       "3     2022-06-11T15:55:55+00:00         4         34.4      85.7  438.0\n",
       "4     2022-06-11T15:56:28+00:00         5         34.5      85.6  424.0\n",
       "...                         ...       ...          ...       ...    ...\n",
       "2240  2022-06-29T14:27:19+00:00      2241         34.9      96.4  290.0\n",
       "2241  2022-06-29T14:27:53+00:00      2242         35.1      95.8  292.0\n",
       "2242  2022-06-29T14:28:26+00:00      2243         35.2      95.3  299.0\n",
       "2243  2022-06-29T14:29:00+00:00      2244         35.5      94.8  312.0\n",
       "2244  2022-06-29T14:29:33+00:00      2245         35.6      94.3  321.0\n",
       "\n",
       "[2245 rows x 5 columns]"
      ]
     },
     "execution_count": 2,
     "metadata": {},
     "output_type": "execute_result"
    }
   ],
   "source": [
    "data = pd.read_csv('C:/Users/USER/Desktop/Project/Datasets/banana_dataset.csv')\n",
    "data"
   ]
  },
  {
   "cell_type": "code",
   "execution_count": 3,
   "metadata": {},
   "outputs": [],
   "source": [
    "data[\"Gas\"].fillna(data['Gas'].mean(), inplace=True) "
   ]
  },
  {
   "cell_type": "code",
   "execution_count": 4,
   "metadata": {},
   "outputs": [],
   "source": [
    "data.rename(columns= {'created_at': 'date'}, inplace=True)\n",
    "data['date'] = data['date'].apply(lambda x: str(x)[:19])\n",
    "data['date'] = pd.to_datetime(data['date'])"
   ]
  },
  {
   "cell_type": "markdown",
   "metadata": {},
   "source": [
    "Classifying the Grades of the fruit"
   ]
  },
  {
   "cell_type": "code",
   "execution_count": 5,
   "metadata": {},
   "outputs": [],
   "source": [
    "data[\"Grade\"] = [0 for i in range (2245)]\n",
    "\n",
    "data.loc[data['Gas'] < 130, 'Grade'] = 1\n",
    "data.loc[(data['Gas'] >= 130) & (data['Gas'] < 210), \"Grade\"] = 2\n",
    "data.loc[(data['Gas'] >= 210) & (data['Gas'] < 360), 'Grade'] = 3\n",
    "data.loc[data['Gas'] >= 360, 'Grade'] = 4"
   ]
  },
  {
   "cell_type": "markdown",
   "metadata": {},
   "source": [
    "Getting the total hours elapsed till date"
   ]
  },
  {
   "cell_type": "code",
   "execution_count": 6,
   "metadata": {},
   "outputs": [
    {
     "data": {
      "text/plain": [
       "datetime.datetime(2024, 3, 27, 17, 13, 0, 263202)"
      ]
     },
     "execution_count": 6,
     "metadata": {},
     "output_type": "execute_result"
    }
   ],
   "source": [
    "import datetime\n",
    "today = datetime.datetime.today()\n",
    "today"
   ]
  },
  {
   "cell_type": "code",
   "execution_count": 7,
   "metadata": {},
   "outputs": [],
   "source": [
    "data['date'] = pd.to_datetime(data['date'])\n",
    "data['Hours'] = (today - data['date'])/np.timedelta64(1,'h')"
   ]
  },
  {
   "cell_type": "markdown",
   "metadata": {},
   "source": [
    "Sorting the hours"
   ]
  },
  {
   "cell_type": "code",
   "execution_count": 8,
   "metadata": {},
   "outputs": [
    {
     "data": {
      "text/html": [
       "<div>\n",
       "<style scoped>\n",
       "    .dataframe tbody tr th:only-of-type {\n",
       "        vertical-align: middle;\n",
       "    }\n",
       "\n",
       "    .dataframe tbody tr th {\n",
       "        vertical-align: top;\n",
       "    }\n",
       "\n",
       "    .dataframe thead th {\n",
       "        text-align: right;\n",
       "    }\n",
       "</style>\n",
       "<table border=\"1\" class=\"dataframe\">\n",
       "  <thead>\n",
       "    <tr style=\"text-align: right;\">\n",
       "      <th></th>\n",
       "      <th>date</th>\n",
       "      <th>entry_id</th>\n",
       "      <th>Temperature</th>\n",
       "      <th>Humidity</th>\n",
       "      <th>Gas</th>\n",
       "      <th>Grade</th>\n",
       "      <th>Hours</th>\n",
       "    </tr>\n",
       "  </thead>\n",
       "  <tbody>\n",
       "    <tr>\n",
       "      <th>0</th>\n",
       "      <td>2022-06-11 15:53:46</td>\n",
       "      <td>1</td>\n",
       "      <td>34.2</td>\n",
       "      <td>81.6</td>\n",
       "      <td>425.0</td>\n",
       "      <td>4</td>\n",
       "      <td>15290.724240</td>\n",
       "    </tr>\n",
       "    <tr>\n",
       "      <th>1</th>\n",
       "      <td>2022-06-11 15:54:39</td>\n",
       "      <td>2</td>\n",
       "      <td>34.3</td>\n",
       "      <td>83.8</td>\n",
       "      <td>425.0</td>\n",
       "      <td>4</td>\n",
       "      <td>15290.733406</td>\n",
       "    </tr>\n",
       "    <tr>\n",
       "      <th>2</th>\n",
       "      <td>2022-06-11 15:55:22</td>\n",
       "      <td>3</td>\n",
       "      <td>34.4</td>\n",
       "      <td>84.6</td>\n",
       "      <td>429.0</td>\n",
       "      <td>4</td>\n",
       "      <td>15290.742851</td>\n",
       "    </tr>\n",
       "    <tr>\n",
       "      <th>3</th>\n",
       "      <td>2022-06-11 15:55:55</td>\n",
       "      <td>4</td>\n",
       "      <td>34.4</td>\n",
       "      <td>85.7</td>\n",
       "      <td>438.0</td>\n",
       "      <td>4</td>\n",
       "      <td>15290.752018</td>\n",
       "    </tr>\n",
       "    <tr>\n",
       "      <th>4</th>\n",
       "      <td>2022-06-11 15:56:28</td>\n",
       "      <td>5</td>\n",
       "      <td>34.5</td>\n",
       "      <td>85.6</td>\n",
       "      <td>424.0</td>\n",
       "      <td>4</td>\n",
       "      <td>15290.761462</td>\n",
       "    </tr>\n",
       "    <tr>\n",
       "      <th>...</th>\n",
       "      <td>...</td>\n",
       "      <td>...</td>\n",
       "      <td>...</td>\n",
       "      <td>...</td>\n",
       "      <td>...</td>\n",
       "      <td>...</td>\n",
       "      <td>...</td>\n",
       "    </tr>\n",
       "    <tr>\n",
       "      <th>2240</th>\n",
       "      <td>2022-06-29 14:27:19</td>\n",
       "      <td>2241</td>\n",
       "      <td>34.9</td>\n",
       "      <td>96.4</td>\n",
       "      <td>290.0</td>\n",
       "      <td>3</td>\n",
       "      <td>15721.275629</td>\n",
       "    </tr>\n",
       "    <tr>\n",
       "      <th>2241</th>\n",
       "      <td>2022-06-29 14:27:53</td>\n",
       "      <td>2242</td>\n",
       "      <td>35.1</td>\n",
       "      <td>95.8</td>\n",
       "      <td>292.0</td>\n",
       "      <td>3</td>\n",
       "      <td>15721.284795</td>\n",
       "    </tr>\n",
       "    <tr>\n",
       "      <th>2242</th>\n",
       "      <td>2022-06-29 14:28:26</td>\n",
       "      <td>2243</td>\n",
       "      <td>35.2</td>\n",
       "      <td>95.3</td>\n",
       "      <td>299.0</td>\n",
       "      <td>3</td>\n",
       "      <td>15721.293962</td>\n",
       "    </tr>\n",
       "    <tr>\n",
       "      <th>2243</th>\n",
       "      <td>2022-06-29 14:29:00</td>\n",
       "      <td>2244</td>\n",
       "      <td>35.5</td>\n",
       "      <td>94.8</td>\n",
       "      <td>312.0</td>\n",
       "      <td>3</td>\n",
       "      <td>15721.305906</td>\n",
       "    </tr>\n",
       "    <tr>\n",
       "      <th>2244</th>\n",
       "      <td>2022-06-29 14:29:33</td>\n",
       "      <td>2245</td>\n",
       "      <td>35.6</td>\n",
       "      <td>94.3</td>\n",
       "      <td>321.0</td>\n",
       "      <td>3</td>\n",
       "      <td>15721.320629</td>\n",
       "    </tr>\n",
       "  </tbody>\n",
       "</table>\n",
       "<p>2245 rows × 7 columns</p>\n",
       "</div>"
      ],
      "text/plain": [
       "                    date  entry_id  Temperature  Humidity    Gas  Grade  \\\n",
       "0    2022-06-11 15:53:46         1         34.2      81.6  425.0      4   \n",
       "1    2022-06-11 15:54:39         2         34.3      83.8  425.0      4   \n",
       "2    2022-06-11 15:55:22         3         34.4      84.6  429.0      4   \n",
       "3    2022-06-11 15:55:55         4         34.4      85.7  438.0      4   \n",
       "4    2022-06-11 15:56:28         5         34.5      85.6  424.0      4   \n",
       "...                  ...       ...          ...       ...    ...    ...   \n",
       "2240 2022-06-29 14:27:19      2241         34.9      96.4  290.0      3   \n",
       "2241 2022-06-29 14:27:53      2242         35.1      95.8  292.0      3   \n",
       "2242 2022-06-29 14:28:26      2243         35.2      95.3  299.0      3   \n",
       "2243 2022-06-29 14:29:00      2244         35.5      94.8  312.0      3   \n",
       "2244 2022-06-29 14:29:33      2245         35.6      94.3  321.0      3   \n",
       "\n",
       "             Hours  \n",
       "0     15290.724240  \n",
       "1     15290.733406  \n",
       "2     15290.742851  \n",
       "3     15290.752018  \n",
       "4     15290.761462  \n",
       "...            ...  \n",
       "2240  15721.275629  \n",
       "2241  15721.284795  \n",
       "2242  15721.293962  \n",
       "2243  15721.305906  \n",
       "2244  15721.320629  \n",
       "\n",
       "[2245 rows x 7 columns]"
      ]
     },
     "execution_count": 8,
     "metadata": {},
     "output_type": "execute_result"
    }
   ],
   "source": [
    "lst = list(data['Hours'])\n",
    "lst.sort()\n",
    "data.drop('Hours', axis=1, inplace=True)\n",
    "ser = pd.Series(data = lst, index = data.index)\n",
    "data['Hours'] = ser\n",
    "data"
   ]
  },
  {
   "cell_type": "markdown",
   "metadata": {},
   "source": [
    "Splitting data to train, test"
   ]
  },
  {
   "cell_type": "code",
   "execution_count": 9,
   "metadata": {},
   "outputs": [],
   "source": [
    "from sklearn.model_selection import train_test_split\n",
    "\n",
    "X = data[['Temperature','Gas']]\n",
    "y = data['Hours']\n",
    "X_train, X_test, y_train, y_test = train_test_split(X, y, test_size=0.3, random_state=101)"
   ]
  },
  {
   "cell_type": "code",
   "execution_count": 10,
   "metadata": {},
   "outputs": [],
   "source": [
    "from sklearn.metrics import r2_score"
   ]
  },
  {
   "cell_type": "markdown",
   "metadata": {},
   "source": [
    "SVR"
   ]
  },
  {
   "cell_type": "code",
   "execution_count": 11,
   "metadata": {},
   "outputs": [],
   "source": [
    "from sklearn.svm import SVR\n",
    "from sklearn.metrics import mean_squared_error\n",
    "\n",
    "svr = SVR()\n",
    "svr.fit(X_train, y_train)\n",
    "pred_svr = svr.predict(X_test)"
   ]
  },
  {
   "cell_type": "code",
   "execution_count": 12,
   "metadata": {},
   "outputs": [
    {
     "name": "stdout",
     "output_type": "stream",
     "text": [
      "RMSE: 158.9077747432791\n"
     ]
    },
    {
     "data": {
      "text/plain": [
       "0.042175279177578795"
      ]
     },
     "execution_count": 12,
     "metadata": {},
     "output_type": "execute_result"
    }
   ],
   "source": [
    "# score = svr.score(X_test, y_test)\n",
    "# print(\"R-squared:\", score)\n",
    "print(\"RMSE:\", np.sqrt(mean_squared_error(y_test, pred_svr)))\n",
    "r2_score(y_test, pred_svr)"
   ]
  },
  {
   "cell_type": "code",
   "execution_count": 13,
   "metadata": {},
   "outputs": [
    {
     "data": {
      "text/plain": [
       "<matplotlib.collections.PathCollection at 0x185def2add0>"
      ]
     },
     "execution_count": 13,
     "metadata": {},
     "output_type": "execute_result"
    },
    {
     "data": {
      "image/png": "[encoded data removed]",
      "text/plain": [
       "<Figure size 1100x700 with 1 Axes>"
      ]
     },
     "metadata": {},
     "output_type": "display_data"
    }
   ],
   "source": [
    "plt.figure(figsize=(11,7))\n",
    "plt.title('SVR')\n",
    "sns.set_style('whitegrid')\n",
    "plt.xlabel('Y Predictions')\n",
    "plt.ylabel('Y True')\n",
    "plt.scatter(pred_svr, y_test, color='r')"
   ]
  },
  {
   "cell_type": "markdown",
   "metadata": {},
   "source": [
    "Decision Tree"
   ]
  },
  {
   "cell_type": "code",
   "execution_count": 14,
   "metadata": {},
   "outputs": [],
   "source": [
    "from sklearn.tree import DecisionTreeRegressor\n",
    "\n",
    "dtree = DecisionTreeRegressor()\n",
    "dtree.fit(X_train, y_train)\n",
    "pred_dtree = dtree.predict(X_test)"
   ]
  },
  {
   "cell_type": "code",
   "execution_count": 15,
   "metadata": {},
   "outputs": [
    {
     "name": "stdout",
     "output_type": "stream",
     "text": [
      "R-squared:  0.9007229827888018\n",
      "R2:  0.9007229827888018\n"
     ]
    }
   ],
   "source": [
    "score = dtree.score(X_test, y_test)\n",
    "print(\"R-squared: \", score)\n",
    "print(\"R2: \", r2_score(y_test,pred_dtree))"
   ]
  },
  {
   "cell_type": "code",
   "execution_count": 16,
   "metadata": {},
   "outputs": [
    {
     "data": {
      "text/plain": [
       "<matplotlib.collections.PathCollection at 0x185def8fc50>"
      ]
     },
     "execution_count": 16,
     "metadata": {},
     "output_type": "execute_result"
    },
    {
     "data": {
      "image/png": "[encoded data removed]",
      "text/plain": [
       "<Figure size 1100x700 with 1 Axes>"
      ]
     },
     "metadata": {},
     "output_type": "display_data"
    }
   ],
   "source": [
    "plt.figure(figsize=(11,7))\n",
    "plt.title('Decision Tree')\n",
    "plt.xlabel('Y Predictions')\n",
    "plt.ylabel('Y True')\n",
    "sns.set_style('whitegrid')\n",
    "plt.scatter(pred_dtree, y_test, color='g')"
   ]
  },
  {
   "cell_type": "markdown",
   "metadata": {},
   "source": [
    "Random Forest"
   ]
  },
  {
   "cell_type": "code",
   "execution_count": 17,
   "metadata": {},
   "outputs": [],
   "source": [
    "from sklearn.ensemble import RandomForestRegressor\n",
    "\n",
    "rfr = RandomForestRegressor(n_estimators = 1)\n",
    "rfr.fit(X_train, y_train)\n",
    "pred_rfr = rfr.predict(X_test)"
   ]
  },
  {
   "cell_type": "code",
   "execution_count": 18,
   "metadata": {},
   "outputs": [
    {
     "name": "stdout",
     "output_type": "stream",
     "text": [
      "RMSE: 52.193196665103564\n"
     ]
    },
    {
     "data": {
      "text/plain": [
       "0.8966706867060532"
      ]
     },
     "execution_count": 18,
     "metadata": {},
     "output_type": "execute_result"
    }
   ],
   "source": [
    "print(\"RMSE:\", np.sqrt(mean_squared_error(y_test, pred_rfr)))\n",
    "r2_score(y_test, pred_rfr)"
   ]
  },
  {
   "cell_type": "code",
   "execution_count": 19,
   "metadata": {},
   "outputs": [
    {
     "data": {
      "text/plain": [
       "<matplotlib.collections.PathCollection at 0x185def731d0>"
      ]
     },
     "execution_count": 19,
     "metadata": {},
     "output_type": "execute_result"
    },
    {
     "data": {
      "image/png": "[encoded data removed]",
      "text/plain": [
       "<Figure size 1100x700 with 1 Axes>"
      ]
     },
     "metadata": {},
     "output_type": "display_data"
    }
   ],
   "source": [
    "plt.figure(figsize=(11,7))\n",
    "plt.title('RFR')\n",
    "plt.xlabel('Y Predictions')\n",
    "plt.ylabel('Y True')\n",
    "sns.set_style('whitegrid')\n",
    "plt.scatter(pred_rfr, y_test, color='brown')"
   ]
  },
  {
   "cell_type": "markdown",
   "metadata": {},
   "source": [
    "XG Boost"
   ]
  },
  {
   "cell_type": "code",
   "execution_count": 20,
   "metadata": {},
   "outputs": [
    {
     "ename": "ModuleNotFoundError",
     "evalue": "No module named 'xgboost'",
     "output_type": "error",
     "traceback": [
      "\u001b[1;31m---------------------------------------------------------------------------\u001b[0m",
      "\u001b[1;31mModuleNotFoundError\u001b[0m                       Traceback (most recent call last)",
      "Cell \u001b[1;32mIn[20], line 1\u001b[0m\n\u001b[1;32m----> 1\u001b[0m \u001b[38;5;28;01mimport\u001b[39;00m \u001b[38;5;21;01mxgboost\u001b[39;00m \u001b[38;5;28;01mas\u001b[39;00m \u001b[38;5;21;01mxgb\u001b[39;00m\n\u001b[0;32m      3\u001b[0m xg \u001b[38;5;241m=\u001b[39m xgb\u001b[38;5;241m.\u001b[39mXGBRegressor(base_score\u001b[38;5;241m=\u001b[39m\u001b[38;5;241m0.5\u001b[39m, booster\u001b[38;5;241m=\u001b[39m\u001b[38;5;124m'\u001b[39m\u001b[38;5;124mgbtree\u001b[39m\u001b[38;5;124m'\u001b[39m,    \n\u001b[0;32m      4\u001b[0m                        n_estimators\u001b[38;5;241m=\u001b[39m\u001b[38;5;241m1000\u001b[39m,\n\u001b[0;32m      5\u001b[0m                        early_stopping_rounds\u001b[38;5;241m=\u001b[39m\u001b[38;5;241m50\u001b[39m,\n\u001b[0;32m      6\u001b[0m                        objective\u001b[38;5;241m=\u001b[39m\u001b[38;5;124m'\u001b[39m\u001b[38;5;124mreg:linear\u001b[39m\u001b[38;5;124m'\u001b[39m,\n\u001b[0;32m      7\u001b[0m                        max_depth\u001b[38;5;241m=\u001b[39m\u001b[38;5;241m3\u001b[39m,\n\u001b[0;32m      8\u001b[0m                        learning_rate\u001b[38;5;241m=\u001b[39m\u001b[38;5;241m0.01\u001b[39m)\n\u001b[0;32m      9\u001b[0m xg\u001b[38;5;241m.\u001b[39mfit(X_train, y_train,\n\u001b[0;32m     10\u001b[0m         eval_set\u001b[38;5;241m=\u001b[39m[(X_train, y_train), (X_test, y_test)],\n\u001b[0;32m     11\u001b[0m         verbose\u001b[38;5;241m=\u001b[39m\u001b[38;5;241m100\u001b[39m)\n",
      "\u001b[1;31mModuleNotFoundError\u001b[0m: No module named 'xgboost'"
     ]
    }
   ],
   "source": [
    "\n",
    "\n",
    "import xgboost as xgb\n",
    "\n",
    "xg = xgb.XGBRegressor(base_score=0.5, booster='gbtree',    \n",
    "                       n_estimators=1000,\n",
    "                       early_stopping_rounds=50,\n",
    "                       objective='reg:linear',\n",
    "                       max_depth=3,\n",
    "                       learning_rate=0.01)\n",
    "xg.fit(X_train, y_train,\n",
    "        eval_set=[(X_train, y_train), (X_test, y_test)],\n",
    "        verbose=100)\n",
    "\n",
    "pred_xg = xg.predict(X_test)\n",
    "\n"
   ]
  },
  {
   "cell_type": "code",
   "execution_count": null,
   "metadata": {},
   "outputs": [],
   "source": [
    "print(\"RMSE:\", np.sqrt(mean_squared_error(y_test, pred_xg)))\n",
    "r2_score(y_test, pred_xg)"
   ]
  },
  {
   "cell_type": "code",
   "execution_count": null,
   "metadata": {},
   "outputs": [],
   "source": [
    "plt.figure(figsize=(11,7))\n",
    "plt.title('XG Boost')\n",
    "plt.xlabel('Y Predictions')\n",
    "plt.ylabel('Y True')\n",
    "sns.set_style('whitegrid')\n",
    "plt.scatter(pred_xg, y_test, color='b')"
   ]
  }
 ],
 "metadata": {
  "kernelspec": {
   "display_name": "Python 3",
   "language": "python",
   "name": "python3"
  },
  "language_info": {
   "codemirror_mode": {
    "name": "ipython",
    "version": 3
   },
   "file_extension": ".py",
   "mimetype": "text/x-python",
   "name": "python",
   "nbconvert_exporter": "python",
   "pygments_lexer": "ipython3",
   "version": "3.11.5"
  }
 },
 "nbformat": 4,
 "nbformat_minor": 2
}
